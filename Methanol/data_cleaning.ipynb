{
 "cells": [
  {
   "cell_type": "code",
   "execution_count": 6,
   "metadata": {},
   "outputs": [],
   "source": [
    "# !pip install openpyxl\n",
    "# !pip install regex\n",
    "import pandas as pd\n",
    "import numpy as np\n",
    "import datetime as dt\n",
    "import regex as re\n",
    "today = dt.date.today()\n",
    "current_date = re.sub('-', '', str(today))[2:]\n",
    "\n",
    "def save_xls(dict_df, path):\n",
    "    \"\"\"\n",
    "    Save a dictionary of dataframes to an excel file, with each dataframe as a separate page\n",
    "    \"\"\"\n",
    "    if os.path.exists(path):\n",
    "        writer = pd.ExcelWriter(path, engine='openpyxl', mode ='a', if_sheet_exists='overlay')\n",
    "    else:\n",
    "        writer = pd.ExcelWriter(path, engine='openpyxl', mode='w' )\n",
    "    for key in dict_df.keys():\n",
    "        dict_df[key].to_excel(writer, key, index=False)\n",
    "\n",
    "    writer.save()\n",
    "    writer.close()\n",
    "\n",
    "import os\n",
    "os.makedirs('data/02_intermediate/', exist_ok=True)\n",
    "os.makedirs('data/01_raw/', exist_ok=True)"
   ]
  },
  {
   "cell_type": "code",
   "execution_count": 2,
   "metadata": {},
   "outputs": [
    {
     "data": {
      "text/plain": [
       "(619, 105)"
      ]
     },
     "execution_count": 2,
     "metadata": {},
     "output_type": "execute_result"
    }
   ],
   "source": [
    "raw_data = pd.read_excel('data/01_raw/SampleData.xls', skiprows=8) # Change the path of your raw file here.\n",
    "\n",
    "start_idx = raw_data.columns.get_indexer(['Version'])[0]\n",
    "end_idx = len(raw_data.columns)\n",
    "sliced_variables = raw_data.iloc[:, start_idx]\n",
    "\n",
    "# column names \n",
    "id_cols = raw_data.iloc[3, :10]\n",
    "\n",
    "# remove first n-rows \n",
    "raw_data = raw_data.iloc[3:, :]\n",
    "raw_data.columns.values[0:10] = id_cols\n",
    "raw_data.columns = raw_data.columns.str.replace(' ', '') # replace spaces in column names\n",
    "raw_data = raw_data.loc[~(raw_data['SampleID'] == 'Sample ID'), :] # remove first row. \n",
    "raw_data = raw_data.rename(columns={'Unnamed:10': 'date_time'}) # rename to datetime\n",
    "raw_data['date_time'] = pd.to_datetime(raw_data['date_time'])\n",
    "# drop columns where NA\n",
    "raw_data = raw_data.dropna(axis=1, how = 'all')\n",
    "raw_data.shape"
   ]
  },
  {
   "cell_type": "code",
   "execution_count": 8,
   "metadata": {},
   "outputs": [
    {
     "data": {
      "text/plain": [
       "(482, 122)"
      ]
     },
     "execution_count": 8,
     "metadata": {},
     "output_type": "execute_result"
    }
   ],
   "source": [
    "raw_data = pd.read_excel('data/01_raw/SampleDataToExcel_kor.hongwee_Feb-19-2022-01-14-07.xls', skiprows=8)\n",
    "\n",
    "start_idx = raw_data.columns.get_indexer(['Version'])[0]\n",
    "end_idx = len(raw_data.columns)\n",
    "sliced_variables = raw_data.iloc[:, start_idx]\n",
    "\n",
    "# column names \n",
    "id_cols = raw_data.iloc[3, :10]\n",
    "\n",
    "# remove first n-rows \n",
    "raw_data = raw_data.iloc[3:, :]\n",
    "raw_data.columns.values[0:10] = id_cols\n",
    "raw_data.columns = raw_data.columns.str.replace(' ', '') # replace spaces in column names\n",
    "raw_data = raw_data.loc[~(raw_data['SampleID'] == 'Sample ID'), :] # remove first row. \n",
    "raw_data = raw_data.rename(columns={'Unnamed:10': 'date_time'}) # rename to datetime\n",
    "raw_data['date_time'] = pd.to_datetime(raw_data['date_time'])\n",
    "# drop columns where NA\n",
    "raw_data = raw_data.dropna(axis=1, how = 'all')\n",
    "raw_data.shape"
   ]
  },
  {
   "cell_type": "code",
   "execution_count": 9,
   "metadata": {},
   "outputs": [],
   "source": [
    "clean_data = raw_data.copy()"
   ]
  },
  {
   "cell_type": "code",
   "execution_count": 10,
   "metadata": {},
   "outputs": [
    {
     "name": "stdout",
     "output_type": "stream",
     "text": [
      "Renaming samples to F101S_O\n",
      "Renaming samples to F201S_O\n",
      "Renaming samples to E304 I_C\n"
     ]
    }
   ],
   "source": [
    "# sort by SampleID, date_time\n",
    "clean_data = clean_data.sort_values(by = ['SampleID', 'SamplePoint', 'date_time'])\n",
    "unique_samples = clean_data['SamplePoint'].dropna().unique().tolist()\n",
    "# Initiate a dictionary to store {'sampleID': pd.DataFrame}\n",
    "sampleList = dict()\n",
    "# Loop over all Sample Points, remove Na-values.\n",
    "for sample in unique_samples:\n",
    "    one_sample_df = clean_data.loc[clean_data['SamplePoint'] == sample]\n",
    "    one_sample_df = one_sample_df.dropna(axis=1, how='all')\n",
    "    # Rename columns .[d+]\n",
    "    renamed = one_sample_df.columns\n",
    "    renamed2 = [re.sub(r'\\.[0-9]*', '', x) if '.' in x else x for x in renamed]\n",
    "    one_sample_df.columns = renamed2\n",
    "    if '/' in sample: # rename the values for proper saving\n",
    "        sample = sample.replace('/', '_')\n",
    "        print (f\"Renaming samples to {sample}\")\n",
    "        sampleList[sample] = one_sample_df\n",
    "    else:\n",
    "        sampleList[sample] = one_sample_df\n",
    "    "
   ]
  },
  {
   "cell_type": "code",
   "execution_count": 11,
   "metadata": {},
   "outputs": [],
   "source": [
    "save_xls(sampleList, f'data/02_intermediate/Sample_{current_date}.xlsx')"
   ]
  }
 ],
 "metadata": {
  "interpreter": {
   "hash": "87881448df0de8eef4a728417f3cb31a590bf517b10f0d08a1941899c93600ff"
  },
  "kernelspec": {
   "display_name": "Python 3.9.10 ('pcml': venv)",
   "language": "python",
   "name": "python3"
  },
  "language_info": {
   "codemirror_mode": {
    "name": "ipython",
    "version": 3
   },
   "file_extension": ".py",
   "mimetype": "text/x-python",
   "name": "python",
   "nbconvert_exporter": "python",
   "pygments_lexer": "ipython3",
   "version": "3.9.10"
  },
  "orig_nbformat": 4
 },
 "nbformat": 4,
 "nbformat_minor": 2
}
